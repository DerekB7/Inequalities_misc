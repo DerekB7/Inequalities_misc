{
 "cells": [
  {
   "cell_type": "code",
   "execution_count": 1,
   "metadata": {
    "collapsed": true
   },
   "outputs": [],
   "source": [
    "import numpy as np"
   ]
  },
  {
   "cell_type": "markdown",
   "metadata": {},
   "source": [
    "recall that the main idea in the chapter is $GM \\leq AM$"
   ]
  },
  {
   "cell_type": "markdown",
   "metadata": {},
   "source": [
    "# Ex 2.11\n",
    "\n",
    "(This is the official solution for Minkowski inequality)\n",
    "\n",
    "\n",
    "for non-negative $a_k$ and $b_k$ and natural numbers $k$ and $n$ where $k\\leq n$\n",
    "\n",
    "**claim:**  \n",
    "\n",
    "$\\Big(\\prod_{k=1}^n a_k\\Big)^{\\frac{1}{n}}+ \\Big(\\prod_{k=1}^n b_k\\Big)^{\\frac{1}{n}} \\leq \\Big(\\prod_{k=1}^n \\big(a_k +b_k\\big)\\Big)^{\\frac{1}{n}}$\n",
    "\n",
    "This reads as\n",
    "\n",
    "$GM\\Big(\\mathbf a\\big) + GM\\Big(\\mathbf b\\Big) \\leq GM\\Big(\\big(\\mathbf a + \\mathbf b\\big)\\Big)$\n",
    "\n",
    "**proof:**\n",
    "\n",
    "First notice that if all $a_k = 0$ and all $b_k=0$ then it is an equality at zero.  We now assume at least one non-zero $a_k$ or $b_k$.\n",
    "\n",
    "notice that RHS is $\\gt 0$ so we may divide by it:\n",
    "\n",
    "$\\frac{\\Big(\\prod_{k=1}^n a_k\\Big)^{\\frac{1}{n}}+ \\Big(\\prod_{k=1}^n b_k\\Big)^{\\frac{1}{n}}}{\\Big(\\prod_{k=1}^n \\big(a_k +b_k\\big)\\Big)^{\\frac{1}{n}}} \\leq 1$\n",
    "\n",
    "now re-write this as:\n",
    "\n",
    "$\\Big(\\frac{\\prod_{k=1}^n a_k}{\\prod_{k=1}^n a_k +b_k}\\Big)^{\\frac{1}{n}} + \\Big(\\frac{\\prod_{k=1}^n b_k}{\\prod_{k=1}^n a_k +b_k}\\Big)^{\\frac{1}{n}}\\leq 1$\n",
    "\n",
    "$\\Big(\\prod_{k=1}^n \\big(\\frac{a_k}{a_k +b_k}\\big) \\Big)^{\\frac{1}{n}} + \\Big(\\prod_{k=1}^n \\big(\\frac{b_k}{a_k +b_k}\\big) \\Big)^{\\frac{1}{n}}\\leq 1$\n",
    "\n",
    "\n",
    "now we use $GM \\leq AM$\n",
    "\n",
    "\n",
    "$\\Big(\\prod_{k=1}^n \\big(\\frac{a_k}{a_k +b_k}\\big) \\Big)^{\\frac{1}{n}} + \\Big(\\prod_{k=1}^n \\big(\\frac{b_k}{a_k +b_k}\\big) \\Big)^{\\frac{1}{n}}\\leq  \\frac{1}{n}\\sum_{k=1}^n \\frac{a_k}{a_k+b_k} +  \\frac{1}{n}\\sum_{k=1}^n \\frac{b_k}{a_k+b_k} = \\sum_{k=1}^n \\frac{1}{n}\\Big(\\frac{a_k +b_k}{a_k+b_k}\\Big)= \\sum_{k=1}^n \\frac{1}{n} = 1$\n",
    "\n",
    "\n",
    "**commentary:**\n",
    "\n",
    "This is a shockingly effective use of $GM \\leq AM$ and a very simple solution to what seems to be a quite powerful result.  I *did not* get this on my own, and had to consult the solutions manual to get the result.  \n",
    "\n"
   ]
  },
  {
   "cell_type": "markdown",
   "metadata": {},
   "source": [
    "# 2.8 \n",
    "\n",
    "**optimization with use of ** $GM \\leq AM$\n",
    "\n",
    "we are given fixed positive $a_k$ and a positive $c$ and a positive $d$, and we are given two different optimization problems $P1$ and $P2$ (which I think are duals).  \n",
    "\n",
    "\n",
    "$P1$  $max: (x_1x_2...x_n)$ subject to $(a_1x_1 + a_2x_2 + ... + a_nx_n = c)$\n",
    "\n",
    "The constraint can equivalently be written as $\\mathbf a^T \\mathbf x = c$\n",
    "\n",
    "*answer*\n",
    "\n",
    "use $GM \\leq AM$\n",
    "\n",
    "$((a_1x_1)(a_2x_2)...(a_nx_n))^{\\frac{1}{n}} \\leq \\frac{1}{n}\\mathbf a^T \\mathbf x =\\frac{c}{n} $\n",
    "\n",
    "with equality **iff** $(a_1x_1)=(a_2x_2)=...=(a_nx_n)$\n",
    "\n",
    "now raise each side to the $n$ power\n",
    "\n",
    "$((a_1x_1)(a_2x_2)...(a_nx_n)) \\leq \\frac{c^n}{n^n}$\n",
    "\n",
    "$(x_1 x_2...x_n) \\leq \\frac{c^n}{(a_1a_2...a_n)n^n}= \\frac{\\big(\\mathbf a^T \\mathbf x\\big)^n}{(a_1a_2...a_n)n^n}$\n",
    "\n",
    "noting that the LHS is our payoff, and the RHS is fixed per problem specifications\n",
    "\n",
    "and again note that the $\\leq $ becomes $=$ **iff** $(a_1x_1)=(a_2x_2)=...=(a_nx_n)$"
   ]
  },
  {
   "cell_type": "code",
   "execution_count": null,
   "metadata": {
    "collapsed": true
   },
   "outputs": [],
   "source": []
  },
  {
   "cell_type": "markdown",
   "metadata": {},
   "source": [
    "a question from a couple weeks earlier in Physics Forums\n",
    "\n",
    "1. The problem statement, all variables and given/known data\n",
    "For positive x, y, z where x≤y≤z such that x + y + z = 3, what is the maximum value of xy?\n",
    "\n",
    "2. Relevant equations\n",
    "\n",
    "\n",
    "3. The attempt at a solution\n",
    "First, before I attempt a solution, isn't it the case that x=y=z=1, since the only partition of 3 into three terms is 1+1+1? I feel like if this would the case the problem would be way too simple, which is why I'm asking. \n",
    "\n",
    "- - - -\n",
    "FWIW the proof of optimality is quite simple to this problem.  You just need a useful bound, and a basic fact about arithmetic means and positive sums. \n",
    "\n",
    "$\\mu = \\frac{1}{3}(x + y +z) = 1$\n",
    "\n",
    "note that $\\mu \\leq z \\lt 3$ (Why? By construction the center of mass cannot be to the right of all relevant points on the real line, or put differently $\\mu = \\frac{1}{3}(x + y +z)  \\leq \\frac{1}{3}(z + z +z) = z$.  Similarly, if the sum of 3 positive variables is 3, then no one of those variables can be $\\geq 3$)\n",
    "\n",
    "apply $GM \\leq AM$, which is valid since all $x,y,z$ are real, non-negative\n",
    "\n",
    "$(xyz)^{\\frac{1}{3}} \\leq \\mu = 1$\n",
    "\n",
    "cube both sides\n",
    "\n",
    "$(xyz)\\leq 1^3 = 1$  \n",
    "$(xy)\\leq \\frac{1}{z} $\n",
    "\n",
    "verify that $1=x=y=z$ is legal and has a payoff of 1.\n",
    "\n",
    "for any $1\\lt z \\lt 3 $  \n",
    "$payoff= (xy)\\leq \\frac{1}{z} \\lt 1$\n",
    " \n",
    "hence the maximal payoff for $xy$ is $1$ which occurs iff $1=x=y=z$. "
   ]
  },
  {
   "cell_type": "markdown",
   "metadata": {},
   "source": [
    "\n",
    "\n"
   ]
  },
  {
   "cell_type": "markdown",
   "metadata": {},
   "source": [
    "**I should now re-visit 2.7 using this information from 2.11**"
   ]
  },
  {
   "cell_type": "code",
   "execution_count": null,
   "metadata": {
    "collapsed": true
   },
   "outputs": [],
   "source": []
  },
  {
   "cell_type": "markdown",
   "metadata": {},
   "source": [
    "# Exercise 2.10 (Akerberg's Refinement)\n",
    "\n",
    "for real non-negative numbers $a_1, a_2, ..., a_n$ and natural number $n\\geq 2$, the following bound exists:\n",
    "\n",
    "**claim:**  \n",
    "$a_n\\Big(\\frac{a_1 + a_2 + ... +a_{n-1}}{n-1}\\Big)^{n-1} \\leq  \\Big(\\frac{a_1 + a_2 + ... +a_{n-1} +a_{n}}{n}\\Big)^{n}$ \n",
    "\n",
    "**proof:**\n",
    "First notice that  all $a_i \\geq 0$.  In the special case that all $a_i =0$  the inequality becomes an equality.  In the event all $a_i=0$ except $a_n > 0$ then there is a strict inequality.  Thus the claim is proved if $a_i =0$ for $i=\\{1,2, ..., n-1\\}$. The rest of this posting assume at least one of those values is $>0$. \n",
    "\n",
    "Now define: \n",
    "\n",
    "$\\mu := \\frac{a_1 + a_2 + ... +a_{n-1}}{n-1}$\n",
    "\n",
    "For all remaining cases to consider we know $\\mu >0$ and hence there is some postive scalar $\\gamma^{n}$ we may multiply each side by (which will not alter the inequality) such that we have \n",
    "\n",
    "$\\mu^* := \\gamma \\frac{a_1 + a_2 + ... +a_{n-1}}{n-1} = 1$  \n",
    "and we would also have $a_n^* = \\gamma a_n$\n",
    "\n",
    "after proving the claim with $\\gamma$ in place (i.e. operating on $\\mu*$ and $a_n*$ we may divide it out at the end which would prove that the claim holds for any $\\mu \\gt 0$_.  $\\textbf{Thus without a loss of generality we may assume } \\mu = 1$. \n",
    "\n",
    "$b: = a_n - \\mu =  a_n - 1$ or equivalently $a_n = b + \\mu = b +1$\n",
    "\n",
    "$LHS = (b +\\mu)\\mu^{n-1} = \\mu^{n-1}b +\\mu^n = b + 1$\n",
    "\n",
    "$RHS = \\Big(\\frac{a_1 + a_2 + ... +a_{n-1} +(\\mu + b)}{n}\\Big)^{n} = \\Big(\\frac{a_1 + a_2 + ... +a_{n-1} +\\mu}{n} + \\frac{b}{n}\\Big)^{n} = \\Big(\\mu + \\frac{b}{n}\\Big)^{n} = \\Big(1 + \\frac{b}{n}\\Big)^{n}$\n",
    "\n",
    "\n",
    "Thus we need to prove:\n",
    "\n",
    "$1 + b \\leq \\Big(1 + \\frac{b}{n}\\Big)^{n}$\n",
    "\n",
    "Final leg:  \n",
    "(1) recalling that $a_n = b + \\mu$, notice that we have equality if $a_n = \\mu$ (i.e. $b = 0$)    \n",
    "\n",
    "(2) suppose $a_n < \\mu$.  Because $a_n \\geq 0$ this means $b \\geq -\\mu$ i.e. $b \\geq -1$.  Alternatively we may have $a_n > \\mu$ which means that $b > 0$.  Our inequality can thus be re-written as:\n",
    "\n",
    "define $\\frac{b}{n} := x$ and we rewrite this as:   \n",
    "$1 + nx \\leq \\Big(1 + x\\Big)^{n}$\n",
    "\n",
    "we verify that real valued $x \\geq -1$ (infact, per the above we know $x\\geq \\frac{-1}{n}$) in all cases (and natural number $n$), and hence we apply the Bernouli equality, which was proved in Exercise 2.2.\n",
    "\n"
   ]
  },
  {
   "cell_type": "code",
   "execution_count": null,
   "metadata": {
    "collapsed": true
   },
   "outputs": [],
   "source": []
  },
  {
   "cell_type": "markdown",
   "metadata": {},
   "source": [
    "# Ex 2.13 (An AM - GM Inequality for Complex Numbers)\n",
    "\n",
    "note: this problem is actually quite simple though I flubbed it:\n",
    "\n",
    "suppose we have $n$ complex numbers $z_1, z_2, ..., z_n$ and they are all in the same \"quadrant\" -- specifically that means that the maximum angle between any of these numbers is less than 90 degrees. \n",
    "\n",
    "we can write each number in polar coordinates:\n",
    "\n",
    "$z_j = \\rho_j e^{i \\theta_j}$\n",
    "\n",
    "I don't recall whether official solution says this, but we want to orient one of our (at least two) boundary points to become the new \"x axis\".  I'd propose doing this by rotating the axis counterclock wise until we have all points in the \"top right\" quadrant of our new complex plane.\n",
    "\n",
    "From here we can look at the angle between each point and the one(s) on the new \"x axis\".  re-label our points as \n",
    "\n",
    "$\\{z_1^*, z_2^*, ..., z_n^*\\}$\n",
    "\n",
    "note that we can define the \"real\" component to be the percent of a given point being on the new \"x axis\", i.e. cos(theta) = adjacent / hypotenuse....\n",
    "\n",
    "note that $\\psi = max(\\theta^*_1, \\theta^*_2, ..., \\theta^*_n)$ (where all angles are written as modulo $2 \\pi$\n",
    "\n",
    "$\\frac{1}{n}\\Big \\vert cos(\\psi)\\big \\vert z_1^*\\big \\vert +  cos(\\psi)\\big \\vert z_2^*\\big \\vert + ...+ cos(\\psi)\\big \\vert z_n^*\\big \\vert\\Big \\vert \\leq \\frac{1}{n}\\big \\vert cos(\\theta^*_1) \\big \\vert z_1^* \\big\\vert +  cos(\\theta^*_2)\\big \\vert z_2^* \\big\\vert + ...+ cos(\\theta^*_n) \\big \\vert z_n^* \\big\\vert \\Big \\vert \\leq \\frac{1}{n}\\big \\vert z_1^* +  z_2^* + ...+ z_n^*\\big \\vert$\n",
    "\n",
    "which can be re-written as:\n",
    "\n",
    "$cos(\\psi) \\frac{1}{n}\\Big \\vert \\big \\vert z_1^*\\big \\vert + \\big \\vert z_2^*\\big \\vert + ...+ \\big \\vert z_n^*\\big \\vert \\Big \\vert \\leq \\frac{1}{n}\\big \\vert  z_1^* + z_2^* + ...+ z_n^*\\big \\vert = \\frac{1}{n}\\big \\vert z_1 +  z_2 + ...+ z_n\\big \\vert$\n",
    "\n",
    "now apply $GM \\leq AM$\n",
    "\n",
    "$cos(\\psi)\\big \\vert  (z_1)(z_2)(...)(z_n)\\big \\vert = cos(\\psi) \\Big \\vert \\big \\vert z_1^*\\big \\vert  \\big \\vert z_2^*\\big \\vert  ... \\big \\vert z_n^*\\big \\vert \\Big \\vert \\leq   \\frac{1}{n}\\big \\vert z_1 +  z_2 + ...+ z_n\\big \\vert$\n",
    "\n",
    "\n",
    "I think the official solution takes a slightly different approach in setting this up, but the basic idea is to have fun with coordinates / isometries. "
   ]
  },
  {
   "cell_type": "code",
   "execution_count": 40,
   "metadata": {
    "collapsed": true
   },
   "outputs": [],
   "source": [
    "# def my_func(n):\n",
    "#     \"\"\"\n",
    "#     This is problem 2.14 in Cauchy Schwarz Masterclass... \n",
    "#     my thinking makes extensive use of the Hankel Matrix in Hamburger Moments problems\n",
    "#     This is the recursive setup for my thinking on this program    \n",
    "#     Where n is some natural number >= 2    \n",
    "    \n",
    "#     This function returns the degree of the exponent, i.e.:\n",
    "#     s_1^k <= s_k\n",
    "    \n",
    "#     for avoidance of doubt if all values are zero (i.e. nilpotence) then it is equality,\n",
    "#     we assume that this has at least one value \n",
    "#     recall all values in here are real non-negative so s_r > 0 in all cases\n",
    "    \n",
    "#     \"\"\"\n",
    "#     if n == 1:\n",
    "#         # base case\n",
    "#         return 1\n",
    "#     else:\n",
    "#         if n % 2 == 1:\n",
    "#             # i.e. if it is odd\n",
    "#             value =  2 * my_func((n + 1)/2) - 1        \n",
    "#         else:\n",
    "#             # i.e. if it is even\n",
    "#             value = 2 * my_func(n/2)\n",
    "#         return value\n",
    "        \n",
    "    "
   ]
  },
  {
   "cell_type": "code",
   "execution_count": 45,
   "metadata": {
    "collapsed": true
   },
   "outputs": [],
   "source": [
    "def my_func(n):\n",
    "    \"\"\"\n",
    "    This is problem 2.14 in Cauchy Schwarz Masterclass... \n",
    "    my thinking makes extensive use of the Hankel Matrix in Hamburger Moments problems\n",
    "    This is the recursive setup for my thinking on this program    \n",
    "    Where n is some natural number >= 2    \n",
    "    \n",
    "    This function returns the degree of the exponent, i.e.:\n",
    "    s_1^k <= s_k\n",
    "    \n",
    "    for avoidance of doubt if all values are zero (i.e. nilpotence) then it is equality,\n",
    "    we assume that this has at least one value \n",
    "    recall all values in here are real non-negative so s_r > 0 in all cases\n",
    "    \n",
    "    \"\"\"\n",
    "    if n == 1:\n",
    "        # base case\n",
    "        return 1\n",
    "    else:\n",
    "        value = 0\n",
    "        if n % 2 == 1:           \n",
    "            n += 1    \n",
    "            value -= 1\n",
    "            \n",
    "        value += 2 * my_func(n/2)\n",
    "        return value\n",
    "        \n",
    "    "
   ]
  },
  {
   "cell_type": "code",
   "execution_count": 51,
   "metadata": {
    "collapsed": false
   },
   "outputs": [
    {
     "data": {
      "text/plain": [
       "14"
      ]
     },
     "execution_count": 51,
     "metadata": {},
     "output_type": "execute_result"
    }
   ],
   "source": [
    "my_func(14)"
   ]
  },
  {
   "cell_type": "markdown",
   "metadata": {},
   "source": [
    "It seems to me that the argument for 2.14 ultimately comes down to using commutativity of real scalars...\n",
    "\n",
    "It seems that beyond the base case, every (finite) natural number is either the base case or it is $\\geq 2$ and can be comprised of needing that ($n \\% 2$) helper $r$ times and then the rest is the pure multiples of 2... however once we have we have done the helper $r$ times, we've reduced the calculation to the pure multiple of 2 case and subtracted r from it... \n",
    "\n",
    "I may need to justify the interchange between my original code which uses the literal recurrence and the most recent version of the code, but basically things make sense here\n"
   ]
  },
  {
   "cell_type": "code",
   "execution_count": null,
   "metadata": {
    "collapsed": true
   },
   "outputs": [],
   "source": []
  },
  {
   "cell_type": "markdown",
   "metadata": {},
   "source": [
    "$\\rho_0 \\leq \\frac{a_k}{A} \\leq \\rho_1$"
   ]
  },
  {
   "cell_type": "code",
   "execution_count": null,
   "metadata": {
    "collapsed": true
   },
   "outputs": [],
   "source": []
  },
  {
   "cell_type": "code",
   "execution_count": 24,
   "metadata": {
    "collapsed": false
   },
   "outputs": [
    {
     "name": "stdout",
     "output_type": "stream",
     "text": [
      "141.276481732\n",
      "141.276481732\n"
     ]
    }
   ],
   "source": [
    "m = 20\n",
    "a = np.random.random(m)*3\n",
    "all_but_last_one = a[0:-1]\n",
    "a[-1] = np.mean(all_but_last_one)\n",
    "print(a[-1]*np.mean(all_but_last_one)**(m-1))\n",
    "print(np.mean(a)**m)"
   ]
  },
  {
   "cell_type": "code",
   "execution_count": null,
   "metadata": {
    "collapsed": true
   },
   "outputs": [],
   "source": []
  },
  {
   "cell_type": "code",
   "execution_count": null,
   "metadata": {
    "collapsed": true
   },
   "outputs": [],
   "source": []
  }
 ],
 "metadata": {
  "kernelspec": {
   "display_name": "Python [py35]",
   "language": "python",
   "name": "Python [py35]"
  },
  "language_info": {
   "codemirror_mode": {
    "name": "ipython",
    "version": 3
   },
   "file_extension": ".py",
   "mimetype": "text/x-python",
   "name": "python",
   "nbconvert_exporter": "python",
   "pygments_lexer": "ipython3",
   "version": "3.5.2"
  }
 },
 "nbformat": 4,
 "nbformat_minor": 0
}
